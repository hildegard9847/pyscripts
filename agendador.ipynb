{
  "nbformat": 4,
  "nbformat_minor": 0,
  "metadata": {
    "colab": {
      "provenance": [],
      "authorship_tag": "ABX9TyOS3pg2aCzvdEXoP1BM7Kzc",
      "include_colab_link": true
    },
    "kernelspec": {
      "name": "python3",
      "display_name": "Python 3"
    },
    "language_info": {
      "name": "python"
    }
  },
  "cells": [
    {
      "cell_type": "markdown",
      "metadata": {
        "id": "view-in-github",
        "colab_type": "text"
      },
      "source": [
        "<a href=\"https://colab.research.google.com/github/hildegard9847/pyscripts/blob/main/agendador.ipynb\" target=\"_parent\"><img src=\"https://colab.research.google.com/assets/colab-badge.svg\" alt=\"Open In Colab\"/></a>"
      ]
    },
    {
      "cell_type": "code",
      "source": [
        "!pip install flask"
      ],
      "metadata": {
        "id": "vNALI1_psT-7"
      },
      "execution_count": null,
      "outputs": []
    },
    {
      "cell_type": "code",
      "source": [
        "!pip install git+git://github.com/gunthercox/ChatterBot.git@master"
      ],
      "metadata": {
        "id": "17Zg1iZ6MoSe"
      },
      "execution_count": null,
      "outputs": []
    },
    {
      "cell_type": "code",
      "source": [
        "! pip install schedule"
      ],
      "metadata": {
        "colab": {
          "base_uri": "https://localhost:8080/"
        },
        "id": "wIX-4AzLMFNQ",
        "outputId": "b48f9de1-1c33-46a7-abc1-6761547399d4"
      },
      "execution_count": null,
      "outputs": [
        {
          "output_type": "stream",
          "name": "stdout",
          "text": [
            "Requirement already satisfied: schedule in /usr/local/lib/python3.10/dist-packages (1.2.0)\n"
          ]
        }
      ]
    },
    {
      "cell_type": "code",
      "execution_count": null,
      "metadata": {
        "id": "eOUiO9qOsQc9"
      },
      "outputs": [],
      "source": [
        "import sqlite3\n",
        "from ChatterBot import ChatBot\n",
        "import schedule\n",
        "import time\n",
        "import datetime\n",
        "from flask import Flask, request, render_template\n",
        "\n",
        "app = Flask(__name__)\n",
        "\n",
        "# Crie uma conexão com o banco de dados SQLite\n",
        "conn = sqlite3.connect('agenda.db')\n",
        "cursor = conn.cursor()\n",
        "\n",
        "# Crie a tabela de agendamento (se ainda não existir)\n",
        "cursor.execute('''\n",
        "    CREATE TABLE IF NOT EXISTS lembretes (\n",
        "        id INTEGER PRIMARY KEY AUTOINCREMENT,\n",
        "        data_hora TEXT,\n",
        "        mensagem TEXT\n",
        "    )\n",
        "''')\n",
        "conn.commit()\n",
        "\n",
        "# Crie uma instância do ChatBot\n",
        "bot = ChatBot('MeuBot')\n",
        "\n",
        "# Função para agendar um lembrete\n",
        "def schedule_task(reminder_time, reminder_text):\n",
        "    try:\n",
        "        reminder_time = datetime.datetime.strptime(reminder_time, '%Y-%m-%d %H:%M')\n",
        "        schedule.every().day.at(reminder_time.strftime('%H:%M')).do(send_reminder, reminder_text)\n",
        "\n",
        "        # Insira o lembrete no banco de dados\n",
        "        cursor.execute('INSERT INTO lembretes (data_hora, mensagem) VALUES (?, ?)', (reminder_time.strftime('%Y-%m-%d %H:%M'), reminder_text))\n",
        "        conn.commit()\n",
        "\n",
        "        print(f\"Lembrete agendado para {reminder_time.strftime('%Y-%m-%d %H:%M')}\")\n",
        "    except ValueError:\n",
        "        print(\"Formato de data e horário inválido. Use 'YYYY-MM-DD HH:MM'.\")\n",
        "\n",
        "# Função para enviar um lembrete\n",
        "def send_reminder(reminder_text):\n",
        "    print(\"Lembrete:\", reminder_text)\n",
        "\n",
        "@app.route('/')\n",
        "def index():\n",
        "    return render_template('index.html')\n",
        "\n",
        "@app.route('/agendar', methods=['POST'])\n",
        "def agendar():\n",
        "    reminder_time = request.form.get('data_hora')\n",
        "    reminder_text = request.form.get('mensagem')\n",
        "    schedule_task(reminder_time, reminder_text)\n",
        "    return 'Lembrete agendado com sucesso!'\n",
        "\n",
        "if __name__ == \"__main__\":\n",
        "    app.run()\n"
      ]
    }
  ]
}