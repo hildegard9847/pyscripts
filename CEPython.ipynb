{
  "nbformat": 4,
  "nbformat_minor": 0,
  "metadata": {
    "colab": {
      "provenance": [],
      "authorship_tag": "ABX9TyNeW6+OrGbGte8jZ4mMGHZG",
      "include_colab_link": true
    },
    "kernelspec": {
      "name": "python3",
      "display_name": "Python 3"
    },
    "language_info": {
      "name": "python"
    }
  },
  "cells": [
    {
      "cell_type": "markdown",
      "metadata": {
        "id": "view-in-github",
        "colab_type": "text"
      },
      "source": [
        "<a href=\"https://colab.research.google.com/github/hildegard9847/pyscripts/blob/main/CEPython.ipynb\" target=\"_parent\"><img src=\"https://colab.research.google.com/assets/colab-badge.svg\" alt=\"Open In Colab\"/></a>"
      ]
    },
    {
      "cell_type": "code",
      "execution_count": null,
      "metadata": {
        "colab": {
          "base_uri": "https://localhost:8080/",
          "height": 1000
        },
        "id": "5GRFyx4HeoxD",
        "outputId": "541eef0f-a71d-4024-f338-c63d5123823a"
      },
      "outputs": [
        {
          "output_type": "stream",
          "name": "stdout",
          "text": [
            "-----------------------------------\n",
            "--------- CEPYTHON 0.0.1 ----------\n",
            "-----------------------------------\n",
            "Digite  o CEP desejado:\n",
            "Inserir apenas 08 dígitos e sem traços!!!\n",
            "06149220\n",
            "============>CEP Encontrado!===============\n",
            "Cep: 06149-220\n",
            "Cidade:  Osasco\n",
            "Estado:  SP\n",
            "Estado:  Rua Darcy Ribeiro\n",
            "Você desseja fazer nova pesquisa? \n",
            "1-Sim ou \n",
            "2-Não \n",
            "sim\n",
            "-----------------------------------\n",
            "--------- CEPYTHON 0.0.1 ----------\n",
            "-----------------------------------\n",
            "Digite  o CEP desejado:\n",
            "Inserir apenas 08 dígitos e sem traços!!!\n",
            "06149210\n",
            "============>CEP Encontrado!===============\n",
            "Cep: 06149-210\n",
            "Cidade:  Osasco\n",
            "Estado:  SP\n",
            "Estado:  Rua Maria Quitéria\n",
            "Você desseja fazer nova pesquisa? \n",
            "1-Sim ou \n",
            "2-Não \n",
            "sim\n",
            "-----------------------------------\n",
            "--------- CEPYTHON 0.0.1 ----------\n",
            "-----------------------------------\n",
            "Digite  o CEP desejado:\n",
            "Inserir apenas 08 dígitos e sem traços!!!\n",
            "03665060\n",
            "============>CEP Encontrado!===============\n",
            "Cep: 03665-060\n",
            "Cidade:  São Paulo\n",
            "Estado:  SP\n",
            "Estado:  Rua José Lidon\n"
          ]
        },
        {
          "output_type": "error",
          "ename": "KeyboardInterrupt",
          "evalue": "ignored",
          "traceback": [
            "\u001b[0;31m---------------------------------------------------------------------------\u001b[0m",
            "\u001b[0;31mKeyboardInterrupt\u001b[0m                         Traceback (most recent call last)",
            "\u001b[0;32m<ipython-input-1-1381c75e0f0e>\u001b[0m in \u001b[0;36m<cell line: 5>\u001b[0;34m()\u001b[0m\n\u001b[1;32m     20\u001b[0m   \u001b[0mbuscaCep\u001b[0m\u001b[0;34m(\u001b[0m\u001b[0;34m)\u001b[0m\u001b[0;34m\u001b[0m\u001b[0;34m\u001b[0m\u001b[0m\n\u001b[1;32m     21\u001b[0m \u001b[0;34m\u001b[0m\u001b[0m\n\u001b[0;32m---> 22\u001b[0;31m   \u001b[0mnovaPesquisa\u001b[0m \u001b[0;34m=\u001b[0m \u001b[0minput\u001b[0m\u001b[0;34m(\u001b[0m\u001b[0;34m\"Você desseja fazer nova pesquisa? \\n1-Sim ou \\n2-Não \\n\"\u001b[0m\u001b[0;34m)\u001b[0m\u001b[0;34m\u001b[0m\u001b[0;34m\u001b[0m\u001b[0m\n\u001b[0m\u001b[1;32m     23\u001b[0m   \u001b[0;32mif\u001b[0m \u001b[0mnovaPesquisa\u001b[0m \u001b[0;34m==\u001b[0m \u001b[0;34m\"nao\"\u001b[0m \u001b[0;32mor\u001b[0m \u001b[0mnovaPesquisa\u001b[0m \u001b[0;34m==\u001b[0m \u001b[0;34m\"não\"\u001b[0m\u001b[0;34m:\u001b[0m\u001b[0;34m\u001b[0m\u001b[0;34m\u001b[0m\u001b[0m\n\u001b[1;32m     24\u001b[0m     \u001b[0mnovaPesquisa\u001b[0m \u001b[0;34m=\u001b[0m\u001b[0;32mFalse\u001b[0m\u001b[0;34m\u001b[0m\u001b[0;34m\u001b[0m\u001b[0m\n",
            "\u001b[0;32m/usr/local/lib/python3.9/dist-packages/ipykernel/kernelbase.py\u001b[0m in \u001b[0;36mraw_input\u001b[0;34m(self, prompt)\u001b[0m\n\u001b[1;32m    849\u001b[0m                 \u001b[0;34m\"raw_input was called, but this frontend does not support input requests.\"\u001b[0m\u001b[0;34m\u001b[0m\u001b[0;34m\u001b[0m\u001b[0m\n\u001b[1;32m    850\u001b[0m             )\n\u001b[0;32m--> 851\u001b[0;31m         return self._input_request(str(prompt),\n\u001b[0m\u001b[1;32m    852\u001b[0m             \u001b[0mself\u001b[0m\u001b[0;34m.\u001b[0m\u001b[0m_parent_ident\u001b[0m\u001b[0;34m,\u001b[0m\u001b[0;34m\u001b[0m\u001b[0;34m\u001b[0m\u001b[0m\n\u001b[1;32m    853\u001b[0m             \u001b[0mself\u001b[0m\u001b[0;34m.\u001b[0m\u001b[0m_parent_header\u001b[0m\u001b[0;34m,\u001b[0m\u001b[0;34m\u001b[0m\u001b[0;34m\u001b[0m\u001b[0m\n",
            "\u001b[0;32m/usr/local/lib/python3.9/dist-packages/ipykernel/kernelbase.py\u001b[0m in \u001b[0;36m_input_request\u001b[0;34m(self, prompt, ident, parent, password)\u001b[0m\n\u001b[1;32m    893\u001b[0m             \u001b[0;32mexcept\u001b[0m \u001b[0mKeyboardInterrupt\u001b[0m\u001b[0;34m:\u001b[0m\u001b[0;34m\u001b[0m\u001b[0;34m\u001b[0m\u001b[0m\n\u001b[1;32m    894\u001b[0m                 \u001b[0;31m# re-raise KeyboardInterrupt, to truncate traceback\u001b[0m\u001b[0;34m\u001b[0m\u001b[0;34m\u001b[0m\u001b[0m\n\u001b[0;32m--> 895\u001b[0;31m                 \u001b[0;32mraise\u001b[0m \u001b[0mKeyboardInterrupt\u001b[0m\u001b[0;34m(\u001b[0m\u001b[0;34m\"Interrupted by user\"\u001b[0m\u001b[0;34m)\u001b[0m \u001b[0;32mfrom\u001b[0m \u001b[0;32mNone\u001b[0m\u001b[0;34m\u001b[0m\u001b[0;34m\u001b[0m\u001b[0m\n\u001b[0m\u001b[1;32m    896\u001b[0m             \u001b[0;32mexcept\u001b[0m \u001b[0mException\u001b[0m \u001b[0;32mas\u001b[0m \u001b[0me\u001b[0m\u001b[0;34m:\u001b[0m\u001b[0;34m\u001b[0m\u001b[0;34m\u001b[0m\u001b[0m\n\u001b[1;32m    897\u001b[0m                 \u001b[0mself\u001b[0m\u001b[0;34m.\u001b[0m\u001b[0mlog\u001b[0m\u001b[0;34m.\u001b[0m\u001b[0mwarning\u001b[0m\u001b[0;34m(\u001b[0m\u001b[0;34m\"Invalid Message:\"\u001b[0m\u001b[0;34m,\u001b[0m \u001b[0mexc_info\u001b[0m\u001b[0;34m=\u001b[0m\u001b[0;32mTrue\u001b[0m\u001b[0;34m)\u001b[0m\u001b[0;34m\u001b[0m\u001b[0;34m\u001b[0m\u001b[0m\n",
            "\u001b[0;31mKeyboardInterrupt\u001b[0m: Interrupted by user"
          ]
        }
      ],
      "source": [
        "import requests as rq\n",
        "\n",
        "novaPesquisa= True\n",
        "\n",
        "while novaPesquisa:\n",
        "  if novaPesquisa:\n",
        "    def buscaCep():\n",
        "      print(\"-----------------------------------\")\n",
        "      print(\"--------- CEPYTHON 0.0.1 ----------\")\n",
        "      print(\"-----------------------------------\")\n",
        "      cep = input('Digite  o CEP desejado:\\nInserir apenas 08 dígitos e sem traços!!!\\n')\n",
        "      request = rq.get('https://viacep.com.br/ws/{}/json/'.format(cep))\n",
        "      endereco = request.json()\n",
        "\n",
        "      print(\"============>CEP Encontrado!===============\")\n",
        "      print('Cep: {}'.format(endereco['cep']))\n",
        "      print(f\"Cidade:  {endereco['localidade']}\")\n",
        "      print('Estado: ',endereco['uf'])\n",
        "      print('Estado: ',endereco['logradouro'])\n",
        "  buscaCep()\n",
        "\n",
        "  novaPesquisa = input(\"Você desseja fazer nova pesquisa? \\n1-Sim ou \\n2-Não \\n\")\n",
        "  if novaPesquisa == \"nao\" or novaPesquisa == \"não\":\n",
        "    novaPesquisa =False\n",
        "    print(\"Obrigado por usar a minha aplicação!\")\n",
        "\n",
        "\n",
        "\n",
        "\n"
      ]
    }
  ]
}