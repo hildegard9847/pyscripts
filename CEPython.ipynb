{
  "nbformat": 4,
  "nbformat_minor": 0,
  "metadata": {
    "colab": {
      "provenance": [],
      "authorship_tag": "ABX9TyNeW6+OrGbGte8jZ4mMGHZG",
      "include_colab_link": true
    },
    "kernelspec": {
      "name": "python3",
      "display_name": "Python 3"
    },
    "language_info": {
      "name": "python"
    }
  },
  "cells": [
    {
      "cell_type": "markdown",
      "metadata": {
        "id": "view-in-github",
        "colab_type": "text"
      },
      "source": [
        "<a href=\"https://colab.research.google.com/github/hildegard9847/pyscripts/blob/main/CEPython.ipynb\" target=\"_parent\"><img src=\"https://colab.research.google.com/assets/colab-badge.svg\" alt=\"Open In Colab\"/></a>"
      ]
    },
    {
      "cell_type": "code",
      "execution_count": null,
      "metadata": {
        "id": "5GRFyx4HeoxD"
      },
      "outputs": [],
      "source": [
        "import requests as rq\n",
        "\n",
        "novaPesquisa= True\n",
        "\n",
        "while novaPesquisa:\n",
        "  if novaPesquisa:\n",
        "    def buscaCep():\n",
        "      print(\"-----------------------------------\")\n",
        "      print(\"--------- CEPYTHON 0.0.1 ----------\")\n",
        "      print(\"-----------------------------------\")\n",
        "      cep = input('Digite  o CEP desejado:\\nInserir apenas 08 dígitos e sem traços!!!\\n')\n",
        "      request = rq.get('https://viacep.com.br/ws/{}/json/'.format(cep))\n",
        "      endereco = request.json()\n",
        "\n",
        "      print(\"============>CEP Encontrado!===============\")\n",
        "      print('Cep: {}'.format(endereco['cep']))\n",
        "      print(f\"Cidade:  {endereco['localidade']}\")\n",
        "      print('Estado: ',endereco['uf'])\n",
        "      print('Estado: ',endereco['logradouro'])\n",
        "  buscaCep()\n",
        "\n",
        "  novaPesquisa = input(\"Você desseja fazer nova pesquisa? \\n1-Sim ou \\n2-Não \\n\")\n",
        "  if novaPesquisa == \"nao\" or novaPesquisa == \"não\":\n",
        "    novaPesquisa =False\n",
        "    print(\"Obrigado por usar a minha aplicação!\")\n",
        "\n",
        "\n",
        "\n",
        "\n"
      ]
    }
  ]
}